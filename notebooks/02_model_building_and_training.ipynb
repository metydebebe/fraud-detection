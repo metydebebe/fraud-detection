{
 "cells": [
  {
   "cell_type": "code",
   "execution_count": null,
   "id": "c196ece3",
   "metadata": {},
   "outputs": [],
   "source": [
    "import pandas as pd\n",
    "import numpy as np\n",
    "\n",
    "from sklearn.model_selection import train_test_split\n",
    "from sklearn.preprocessing import StandardScaler\n",
    "from sklearn.linear_model import LogisticRegression\n",
    "from sklearn.ensemble import RandomForestClassifier\n",
    "from sklearn.metrics import (\n",
    "    classification_report, confusion_matrix,\n",
    "    roc_auc_score, average_precision_score, f1_score\n",
    ")\n",
    "import matplotlib.pyplot as plt\n",
    "import seaborn as sns"
   ]
  },
  {
   "cell_type": "code",
   "execution_count": 16,
   "id": "b5892d64",
   "metadata": {},
   "outputs": [],
   "source": [
    "# Load cleaned fraud dataset\n",
    "fraud_df = pd.read_csv('../data/cleaned_fraud_df.csv')"
   ]
  },
  {
   "cell_type": "code",
   "execution_count": 17,
   "id": "8578a347",
   "metadata": {},
   "outputs": [],
   "source": [
    "y = fraud_df[\"class\"]  # or df[\"Class\"]\n",
    "X = fraud_df.drop(columns=[\"class\"])  # or df.drop(columns=[\"Class\"])"
   ]
  },
  {
   "cell_type": "code",
   "execution_count": 18,
   "id": "42f21cbe",
   "metadata": {},
   "outputs": [],
   "source": [
    "X = X.select_dtypes(include=[\"number\"])  # keeps only numeric columns"
   ]
  },
  {
   "cell_type": "code",
   "execution_count": 19,
   "id": "713cd8aa",
   "metadata": {},
   "outputs": [],
   "source": [
    "X = pd.get_dummies(X)  # One-hot encoding of categorical columns"
   ]
  },
  {
   "cell_type": "code",
   "execution_count": 20,
   "id": "d4eec4f4",
   "metadata": {},
   "outputs": [],
   "source": [
    "from sklearn.preprocessing import StandardScaler\n",
    "\n",
    "scaler = StandardScaler()\n",
    "X_scaled = scaler.fit_transform(X)"
   ]
  },
  {
   "cell_type": "code",
   "execution_count": 21,
   "id": "0da3fdc7",
   "metadata": {},
   "outputs": [],
   "source": [
    "from sklearn.model_selection import train_test_split\n",
    "\n",
    "X_train, X_test, y_train, y_test = train_test_split(X_scaled, y, test_size=0.2, random_state=42, stratify=y)"
   ]
  },
  {
   "cell_type": "code",
   "execution_count": 22,
   "id": "0df5e979",
   "metadata": {},
   "outputs": [],
   "source": [
    "from sklearn.linear_model import LogisticRegression\n",
    "from sklearn.ensemble import RandomForestClassifier\n",
    "\n",
    "# Logistic Regression\n",
    "logreg = LogisticRegression(max_iter=1000, class_weight='balanced', random_state=42)\n",
    "logreg.fit(X_train, y_train)\n",
    "y_pred_log = logreg.predict(X_test)\n",
    "\n",
    "# Random Forest\n",
    "rf = RandomForestClassifier(n_estimators=100, class_weight='balanced', random_state=42)\n",
    "rf.fit(X_train, y_train)\n",
    "y_pred_rf = rf.predict(X_test)\n"
   ]
  },
  {
   "cell_type": "code",
   "execution_count": 23,
   "id": "16ae28d7",
   "metadata": {},
   "outputs": [
    {
     "name": "stdout",
     "output_type": "stream",
     "text": [
      "=== Logistic Regression ===\n",
      "Confusion Matrix:\n",
      "[[25856  1537]\n",
      " [  908  1922]]\n",
      "Classification Report:\n",
      "              precision    recall  f1-score   support\n",
      "\n",
      "           0       0.97      0.94      0.95     27393\n",
      "           1       0.56      0.68      0.61      2830\n",
      "\n",
      "    accuracy                           0.92     30223\n",
      "   macro avg       0.76      0.81      0.78     30223\n",
      "weighted avg       0.93      0.92      0.92     30223\n",
      "\n",
      "F1 Score: 0.6112\n",
      "AUC-PR: 0.4074\n",
      "\n",
      "=== Random Forest ===\n",
      "Confusion Matrix:\n",
      "[[27393     0]\n",
      " [ 1337  1493]]\n",
      "Classification Report:\n",
      "              precision    recall  f1-score   support\n",
      "\n",
      "           0       0.95      1.00      0.98     27393\n",
      "           1       1.00      0.53      0.69      2830\n",
      "\n",
      "    accuracy                           0.96     30223\n",
      "   macro avg       0.98      0.76      0.83     30223\n",
      "weighted avg       0.96      0.96      0.95     30223\n",
      "\n",
      "F1 Score: 0.6907\n",
      "AUC-PR: 0.5718\n",
      "\n"
     ]
    }
   ],
   "source": [
    "from sklearn.metrics import classification_report, confusion_matrix, f1_score, average_precision_score\n",
    "\n",
    "def evaluate_model(y_true, y_pred, model_name):\n",
    "    print(f\"=== {model_name} ===\")\n",
    "    print(\"Confusion Matrix:\")\n",
    "    print(confusion_matrix(y_true, y_pred))\n",
    "    print(\"Classification Report:\")\n",
    "    print(classification_report(y_true, y_pred))\n",
    "    print(f\"F1 Score: {f1_score(y_true, y_pred):.4f}\")\n",
    "    print(f\"AUC-PR: {average_precision_score(y_true, y_pred):.4f}\")\n",
    "    print()\n",
    "\n",
    "# Evaluate both models\n",
    "evaluate_model(y_test, y_pred_log, \"Logistic Regression\")\n",
    "evaluate_model(y_test, y_pred_rf, \"Random Forest\")"
   ]
  }
 ],
 "metadata": {
  "kernelspec": {
   "display_name": "fraud-detection",
   "language": "python",
   "name": "python3"
  },
  "language_info": {
   "codemirror_mode": {
    "name": "ipython",
    "version": 3
   },
   "file_extension": ".py",
   "mimetype": "text/x-python",
   "name": "python",
   "nbconvert_exporter": "python",
   "pygments_lexer": "ipython3",
   "version": "3.11.13"
  }
 },
 "nbformat": 4,
 "nbformat_minor": 5
}
